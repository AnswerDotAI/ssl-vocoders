{
 "cells": [
  {
   "cell_type": "code",
   "execution_count": 1,
   "metadata": {},
   "outputs": [],
   "source": [
    "import wandb\n"
   ]
  },
  {
   "cell_type": "code",
   "execution_count": 5,
   "metadata": {},
   "outputs": [],
   "source": [
    "api = wandb.Api()"
   ]
  },
  {
   "cell_type": "code",
   "execution_count": 12,
   "metadata": {},
   "outputs": [],
   "source": [
    "run_dict = {\n",
    "    \"wav2vec2-base\": \"model-o4tpn4wd\", #\"leafy-sound-179\",\n",
    "    \"wav2vec2-large\": \"model-90j4be4y\", #\"driven-tree-180\",\n",
    "    \"hubert-base\": \"model-7yumzed9\",\n",
    "    \"hubert-large\": \"model-kimjphhs\",\n",
    "    \"wavlm-base\": \"model-ugwfwmm3\",\n",
    "    \"wavlm-large\": \"model-v042svn1\",\n",
    "    \"wav2vec2_l3\": \"model-5n6os6t5\" ,\n",
    "    \"wav2vec2_l6\": \"model-a3kd0hkn\",\n",
    "    \"wav2vec2_l9\": \"model-kh36yjxg\",\n",
    "    \"mel\": \"model-e43i978z\",\n",
    "}"
   ]
  },
  {
   "cell_type": "code",
   "execution_count": 13,
   "metadata": {},
   "outputs": [
    {
     "name": "stderr",
     "output_type": "stream",
     "text": [
      "\u001b[34m\u001b[1mwandb\u001b[0m: Downloading large artifact model-o4tpn4wd:latest, 996.84MB. 1 files... \n",
      "\u001b[34m\u001b[1mwandb\u001b[0m:   1 of 1 files downloaded.  \n",
      "Done. 0:0:1.0\n",
      "\u001b[34m\u001b[1mwandb\u001b[0m: Downloading large artifact model-90j4be4y:latest, 1007.34MB. 1 files... \n",
      "\u001b[34m\u001b[1mwandb\u001b[0m:   1 of 1 files downloaded.  \n",
      "Done. 0:0:1.0\n",
      "\u001b[34m\u001b[1mwandb\u001b[0m: Downloading large artifact model-7yumzed9:latest, 996.84MB. 1 files... \n",
      "\u001b[34m\u001b[1mwandb\u001b[0m:   1 of 1 files downloaded.  \n",
      "Done. 0:0:1.0\n",
      "\u001b[34m\u001b[1mwandb\u001b[0m: Downloading large artifact model-kimjphhs:latest, 1007.34MB. 1 files... \n",
      "\u001b[34m\u001b[1mwandb\u001b[0m:   1 of 1 files downloaded.  \n",
      "Done. 0:0:1.0\n",
      "\u001b[34m\u001b[1mwandb\u001b[0m: Downloading large artifact model-ugwfwmm3:latest, 996.84MB. 1 files... \n",
      "\u001b[34m\u001b[1mwandb\u001b[0m:   1 of 1 files downloaded.  \n",
      "Done. 0:0:30.5\n",
      "\u001b[34m\u001b[1mwandb\u001b[0m: Downloading large artifact model-v042svn1:latest, 1007.34MB. 1 files... \n",
      "\u001b[34m\u001b[1mwandb\u001b[0m:   1 of 1 files downloaded.  \n",
      "Done. 0:0:29.7\n",
      "\u001b[34m\u001b[1mwandb\u001b[0m: Downloading large artifact model-s8tcgry6:latest, 996.84MB. 1 files... \n",
      "\u001b[34m\u001b[1mwandb\u001b[0m:   1 of 1 files downloaded.  \n",
      "Done. 0:0:30.8\n",
      "\u001b[34m\u001b[1mwandb\u001b[0m: Downloading large artifact model-wfw1e7gn:latest, 996.84MB. 1 files... \n",
      "\u001b[34m\u001b[1mwandb\u001b[0m:   1 of 1 files downloaded.  \n",
      "Done. 0:0:29.2\n",
      "\u001b[34m\u001b[1mwandb\u001b[0m: Downloading large artifact model-saulrq2p:latest, 996.84MB. 1 files... \n",
      "\u001b[34m\u001b[1mwandb\u001b[0m:   1 of 1 files downloaded.  \n",
      "Done. 0:0:41.3\n",
      "\u001b[34m\u001b[1mwandb\u001b[0m: Downloading large artifact model-e43i978z:latest, 970.14MB. 1 files... \n",
      "\u001b[34m\u001b[1mwandb\u001b[0m:   1 of 1 files downloaded.  \n",
      "Done. 0:0:43.6\n"
     ]
    }
   ],
   "source": [
    "for k,v in run_dict.items():\n",
    "    api.artifact(f\"wataru9871/hifigan-lightning/{v}:latest\").download(f\"./checkpoints/{k}\")"
   ]
  },
  {
   "cell_type": "code",
   "execution_count": null,
   "metadata": {},
   "outputs": [],
   "source": []
  }
 ],
 "metadata": {
  "kernelspec": {
   "display_name": ".venv",
   "language": "python",
   "name": "python3"
  },
  "language_info": {
   "codemirror_mode": {
    "name": "ipython",
    "version": 3
   },
   "file_extension": ".py",
   "mimetype": "text/x-python",
   "name": "python",
   "nbconvert_exporter": "python",
   "pygments_lexer": "ipython3",
   "version": "3.10.11"
  },
  "orig_nbformat": 4
 },
 "nbformat": 4,
 "nbformat_minor": 2
}
